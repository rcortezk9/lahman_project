{
 "cells": [
  {
   "cell_type": "markdown",
   "source": [
    "## Lahman's Baseball Data Science project\n",
    "\n",
    "<p>We are going to take a look into stats for active players that have played at least 50 games in their careers<p>"
   ],
   "metadata": {
    "collapsed": false,
    "pycharm": {
     "name": "#%% md\n"
    }
   }
  },
  {
   "cell_type": "code",
   "execution_count": 10,
   "metadata": {
    "collapsed": true,
    "pycharm": {
     "name": "#%%\n"
    }
   },
   "outputs": [
    {
     "data": {
      "text/plain": "    playerID  birthYear  birthMonth  birthDay birthCountry birthState  \\\n0  aardsda01     1981.0        12.0      27.0          USA         CO   \n1  aaronha01     1934.0         2.0       5.0          USA         AL   \n2  aaronto01     1939.0         8.0       5.0          USA         AL   \n3   aasedo01     1954.0         9.0       8.0          USA         CA   \n4   abadan01     1972.0         8.0      25.0          USA         FL   \n\n    birthCity  deathYear  deathMonth  deathDay  ... nameLast       nameGiven  \\\n0      Denver        NaN         NaN       NaN  ...  Aardsma     David Allan   \n1      Mobile        NaN         NaN       NaN  ...    Aaron     Henry Louis   \n2      Mobile     1984.0         8.0      16.0  ...    Aaron      Tommie Lee   \n3      Orange        NaN         NaN       NaN  ...     Aase  Donald William   \n4  Palm Beach        NaN         NaN       NaN  ...     Abad   Fausto Andres   \n\n  weight height bats throws       debut   finalGame   retroID    bbrefID  \n0  215.0   75.0    R      R  2004-04-06  2015-08-23  aardd001  aardsda01  \n1  180.0   72.0    R      R  1954-04-13  1976-10-03  aaroh101  aaronha01  \n2  190.0   75.0    R      R  1962-04-10  1971-09-26  aarot101  aaronto01  \n3  190.0   75.0    R      R  1977-07-26  1990-10-03  aased001   aasedo01  \n4  184.0   73.0    L      L  2001-09-10  2006-04-13  abada001   abadan01  \n\n[5 rows x 24 columns]",
      "text/html": "<div>\n<style scoped>\n    .dataframe tbody tr th:only-of-type {\n        vertical-align: middle;\n    }\n\n    .dataframe tbody tr th {\n        vertical-align: top;\n    }\n\n    .dataframe thead th {\n        text-align: right;\n    }\n</style>\n<table border=\"1\" class=\"dataframe\">\n  <thead>\n    <tr style=\"text-align: right;\">\n      <th></th>\n      <th>playerID</th>\n      <th>birthYear</th>\n      <th>birthMonth</th>\n      <th>birthDay</th>\n      <th>birthCountry</th>\n      <th>birthState</th>\n      <th>birthCity</th>\n      <th>deathYear</th>\n      <th>deathMonth</th>\n      <th>deathDay</th>\n      <th>...</th>\n      <th>nameLast</th>\n      <th>nameGiven</th>\n      <th>weight</th>\n      <th>height</th>\n      <th>bats</th>\n      <th>throws</th>\n      <th>debut</th>\n      <th>finalGame</th>\n      <th>retroID</th>\n      <th>bbrefID</th>\n    </tr>\n  </thead>\n  <tbody>\n    <tr>\n      <th>0</th>\n      <td>aardsda01</td>\n      <td>1981.0</td>\n      <td>12.0</td>\n      <td>27.0</td>\n      <td>USA</td>\n      <td>CO</td>\n      <td>Denver</td>\n      <td>NaN</td>\n      <td>NaN</td>\n      <td>NaN</td>\n      <td>...</td>\n      <td>Aardsma</td>\n      <td>David Allan</td>\n      <td>215.0</td>\n      <td>75.0</td>\n      <td>R</td>\n      <td>R</td>\n      <td>2004-04-06</td>\n      <td>2015-08-23</td>\n      <td>aardd001</td>\n      <td>aardsda01</td>\n    </tr>\n    <tr>\n      <th>1</th>\n      <td>aaronha01</td>\n      <td>1934.0</td>\n      <td>2.0</td>\n      <td>5.0</td>\n      <td>USA</td>\n      <td>AL</td>\n      <td>Mobile</td>\n      <td>NaN</td>\n      <td>NaN</td>\n      <td>NaN</td>\n      <td>...</td>\n      <td>Aaron</td>\n      <td>Henry Louis</td>\n      <td>180.0</td>\n      <td>72.0</td>\n      <td>R</td>\n      <td>R</td>\n      <td>1954-04-13</td>\n      <td>1976-10-03</td>\n      <td>aaroh101</td>\n      <td>aaronha01</td>\n    </tr>\n    <tr>\n      <th>2</th>\n      <td>aaronto01</td>\n      <td>1939.0</td>\n      <td>8.0</td>\n      <td>5.0</td>\n      <td>USA</td>\n      <td>AL</td>\n      <td>Mobile</td>\n      <td>1984.0</td>\n      <td>8.0</td>\n      <td>16.0</td>\n      <td>...</td>\n      <td>Aaron</td>\n      <td>Tommie Lee</td>\n      <td>190.0</td>\n      <td>75.0</td>\n      <td>R</td>\n      <td>R</td>\n      <td>1962-04-10</td>\n      <td>1971-09-26</td>\n      <td>aarot101</td>\n      <td>aaronto01</td>\n    </tr>\n    <tr>\n      <th>3</th>\n      <td>aasedo01</td>\n      <td>1954.0</td>\n      <td>9.0</td>\n      <td>8.0</td>\n      <td>USA</td>\n      <td>CA</td>\n      <td>Orange</td>\n      <td>NaN</td>\n      <td>NaN</td>\n      <td>NaN</td>\n      <td>...</td>\n      <td>Aase</td>\n      <td>Donald William</td>\n      <td>190.0</td>\n      <td>75.0</td>\n      <td>R</td>\n      <td>R</td>\n      <td>1977-07-26</td>\n      <td>1990-10-03</td>\n      <td>aased001</td>\n      <td>aasedo01</td>\n    </tr>\n    <tr>\n      <th>4</th>\n      <td>abadan01</td>\n      <td>1972.0</td>\n      <td>8.0</td>\n      <td>25.0</td>\n      <td>USA</td>\n      <td>FL</td>\n      <td>Palm Beach</td>\n      <td>NaN</td>\n      <td>NaN</td>\n      <td>NaN</td>\n      <td>...</td>\n      <td>Abad</td>\n      <td>Fausto Andres</td>\n      <td>184.0</td>\n      <td>73.0</td>\n      <td>L</td>\n      <td>L</td>\n      <td>2001-09-10</td>\n      <td>2006-04-13</td>\n      <td>abada001</td>\n      <td>abadan01</td>\n    </tr>\n  </tbody>\n</table>\n<p>5 rows × 24 columns</p>\n</div>"
     },
     "metadata": {},
     "output_type": "display_data"
    },
    {
     "data": {
      "text/plain": "    playerID  yearID  stint teamID lgID   G   AB   R   H  2B  ...   RBI   SB  \\\n0  abercda01    1871      1    TRO  NaN   1    4   0   0   0  ...   0.0  0.0   \n1   addybo01    1871      1    RC1  NaN  25  118  30  32   6  ...  13.0  8.0   \n2  allisar01    1871      1    CL1  NaN  29  137  28  40   4  ...  19.0  3.0   \n3  allisdo01    1871      1    WS3  NaN  27  133  28  44  10  ...  27.0  1.0   \n4  ansonca01    1871      1    RC1  NaN  25  120  29  39  11  ...  16.0  6.0   \n\n    CS  BB   SO  IBB  HBP  SH  SF  GIDP  \n0  0.0   0  0.0  NaN  NaN NaN NaN   0.0  \n1  1.0   4  0.0  NaN  NaN NaN NaN   0.0  \n2  1.0   2  5.0  NaN  NaN NaN NaN   1.0  \n3  1.0   0  2.0  NaN  NaN NaN NaN   0.0  \n4  2.0   2  1.0  NaN  NaN NaN NaN   0.0  \n\n[5 rows x 22 columns]",
      "text/html": "<div>\n<style scoped>\n    .dataframe tbody tr th:only-of-type {\n        vertical-align: middle;\n    }\n\n    .dataframe tbody tr th {\n        vertical-align: top;\n    }\n\n    .dataframe thead th {\n        text-align: right;\n    }\n</style>\n<table border=\"1\" class=\"dataframe\">\n  <thead>\n    <tr style=\"text-align: right;\">\n      <th></th>\n      <th>playerID</th>\n      <th>yearID</th>\n      <th>stint</th>\n      <th>teamID</th>\n      <th>lgID</th>\n      <th>G</th>\n      <th>AB</th>\n      <th>R</th>\n      <th>H</th>\n      <th>2B</th>\n      <th>...</th>\n      <th>RBI</th>\n      <th>SB</th>\n      <th>CS</th>\n      <th>BB</th>\n      <th>SO</th>\n      <th>IBB</th>\n      <th>HBP</th>\n      <th>SH</th>\n      <th>SF</th>\n      <th>GIDP</th>\n    </tr>\n  </thead>\n  <tbody>\n    <tr>\n      <th>0</th>\n      <td>abercda01</td>\n      <td>1871</td>\n      <td>1</td>\n      <td>TRO</td>\n      <td>NaN</td>\n      <td>1</td>\n      <td>4</td>\n      <td>0</td>\n      <td>0</td>\n      <td>0</td>\n      <td>...</td>\n      <td>0.0</td>\n      <td>0.0</td>\n      <td>0.0</td>\n      <td>0</td>\n      <td>0.0</td>\n      <td>NaN</td>\n      <td>NaN</td>\n      <td>NaN</td>\n      <td>NaN</td>\n      <td>0.0</td>\n    </tr>\n    <tr>\n      <th>1</th>\n      <td>addybo01</td>\n      <td>1871</td>\n      <td>1</td>\n      <td>RC1</td>\n      <td>NaN</td>\n      <td>25</td>\n      <td>118</td>\n      <td>30</td>\n      <td>32</td>\n      <td>6</td>\n      <td>...</td>\n      <td>13.0</td>\n      <td>8.0</td>\n      <td>1.0</td>\n      <td>4</td>\n      <td>0.0</td>\n      <td>NaN</td>\n      <td>NaN</td>\n      <td>NaN</td>\n      <td>NaN</td>\n      <td>0.0</td>\n    </tr>\n    <tr>\n      <th>2</th>\n      <td>allisar01</td>\n      <td>1871</td>\n      <td>1</td>\n      <td>CL1</td>\n      <td>NaN</td>\n      <td>29</td>\n      <td>137</td>\n      <td>28</td>\n      <td>40</td>\n      <td>4</td>\n      <td>...</td>\n      <td>19.0</td>\n      <td>3.0</td>\n      <td>1.0</td>\n      <td>2</td>\n      <td>5.0</td>\n      <td>NaN</td>\n      <td>NaN</td>\n      <td>NaN</td>\n      <td>NaN</td>\n      <td>1.0</td>\n    </tr>\n    <tr>\n      <th>3</th>\n      <td>allisdo01</td>\n      <td>1871</td>\n      <td>1</td>\n      <td>WS3</td>\n      <td>NaN</td>\n      <td>27</td>\n      <td>133</td>\n      <td>28</td>\n      <td>44</td>\n      <td>10</td>\n      <td>...</td>\n      <td>27.0</td>\n      <td>1.0</td>\n      <td>1.0</td>\n      <td>0</td>\n      <td>2.0</td>\n      <td>NaN</td>\n      <td>NaN</td>\n      <td>NaN</td>\n      <td>NaN</td>\n      <td>0.0</td>\n    </tr>\n    <tr>\n      <th>4</th>\n      <td>ansonca01</td>\n      <td>1871</td>\n      <td>1</td>\n      <td>RC1</td>\n      <td>NaN</td>\n      <td>25</td>\n      <td>120</td>\n      <td>29</td>\n      <td>39</td>\n      <td>11</td>\n      <td>...</td>\n      <td>16.0</td>\n      <td>6.0</td>\n      <td>2.0</td>\n      <td>2</td>\n      <td>1.0</td>\n      <td>NaN</td>\n      <td>NaN</td>\n      <td>NaN</td>\n      <td>NaN</td>\n      <td>0.0</td>\n    </tr>\n  </tbody>\n</table>\n<p>5 rows × 22 columns</p>\n</div>"
     },
     "metadata": {},
     "output_type": "display_data"
    }
   ],
   "source": [
    "import pandas as pd\n",
    "from IPython.core.display import display\n",
    "\n",
    "players = pd.read_csv('People.csv')\n",
    "batting = pd.read_csv('Batting.csv')\n",
    "\n",
    "display(players.head())\n",
    "display(batting.head())"
   ]
  },
  {
   "cell_type": "code",
   "execution_count": 11,
   "outputs": [
    {
     "name": "stdout",
     "output_type": "stream",
     "text": [
      "<class 'pandas.core.frame.DataFrame'>\n",
      "RangeIndex: 19965 entries, 0 to 19964\n",
      "Data columns (total 24 columns):\n",
      " #   Column        Non-Null Count  Dtype  \n",
      "---  ------        --------------  -----  \n",
      " 0   playerID      19965 non-null  object \n",
      " 1   birthYear     19851 non-null  float64\n",
      " 2   birthMonth    19683 non-null  float64\n",
      " 3   birthDay      19541 non-null  float64\n",
      " 4   birthCountry  19904 non-null  object \n",
      " 5   birthState    19415 non-null  object \n",
      " 6   birthCity     19792 non-null  object \n",
      " 7   deathYear     9826 non-null   float64\n",
      " 8   deathMonth    9825 non-null   float64\n",
      " 9   deathDay      9824 non-null   float64\n",
      " 10  deathCountry  9822 non-null   object \n",
      " 11  deathState    9772 non-null   object \n",
      " 12  deathCity     9817 non-null   object \n",
      " 13  nameFirst     19928 non-null  object \n",
      " 14  nameLast      19965 non-null  object \n",
      " 15  nameGiven     19928 non-null  object \n",
      " 16  weight        19148 non-null  float64\n",
      " 17  height        19228 non-null  float64\n",
      " 18  bats          18785 non-null  object \n",
      " 19  throws        18988 non-null  object \n",
      " 20  debut         19770 non-null  object \n",
      " 21  finalGame     19770 non-null  object \n",
      " 22  retroID       19904 non-null  object \n",
      " 23  bbrefID       19958 non-null  object \n",
      "dtypes: float64(8), object(16)\n",
      "memory usage: 3.7+ MB\n",
      "\n",
      "\n",
      "<class 'pandas.core.frame.DataFrame'>\n",
      "RangeIndex: 107429 entries, 0 to 107428\n",
      "Data columns (total 22 columns):\n",
      " #   Column    Non-Null Count   Dtype  \n",
      "---  ------    --------------   -----  \n",
      " 0   playerID  107429 non-null  object \n",
      " 1   yearID    107429 non-null  int64  \n",
      " 2   stint     107429 non-null  int64  \n",
      " 3   teamID    107429 non-null  object \n",
      " 4   lgID      106691 non-null  object \n",
      " 5   G         107429 non-null  int64  \n",
      " 6   AB        107429 non-null  int64  \n",
      " 7   R         107429 non-null  int64  \n",
      " 8   H         107429 non-null  int64  \n",
      " 9   2B        107429 non-null  int64  \n",
      " 10  3B        107429 non-null  int64  \n",
      " 11  HR        107429 non-null  int64  \n",
      " 12  RBI       106673 non-null  float64\n",
      " 13  SB        105061 non-null  float64\n",
      " 14  CS        83888 non-null   float64\n",
      " 15  BB        107429 non-null  int64  \n",
      " 16  SO        105329 non-null  float64\n",
      " 17  IBB       70778 non-null   float64\n",
      " 18  HBP       104612 non-null  float64\n",
      " 19  SH        101360 non-null  float64\n",
      " 20  SF        71325 non-null   float64\n",
      " 21  GIDP      81988 non-null   float64\n",
      "dtypes: float64(9), int64(10), object(3)\n",
      "memory usage: 18.0+ MB\n"
     ]
    }
   ],
   "source": [
    "players.info()\n",
    "\n",
    "print('\\n')\n",
    "\n",
    "batting.info()"
   ],
   "metadata": {
    "collapsed": false,
    "pycharm": {
     "name": "#%%\n"
    }
   }
  },
  {
   "cell_type": "code",
   "execution_count": 6,
   "outputs": [
    {
     "data": {
      "text/plain": "    playerID  birthYear  birthMonth  birthDay birthCountry birthState  \\\n0  aardsda01     1981.0        12.0      27.0          USA         CO   \n1  aardsda01     1981.0        12.0      27.0          USA         CO   \n2  aardsda01     1981.0        12.0      27.0          USA         CO   \n3  aardsda01     1981.0        12.0      27.0          USA         CO   \n4  aardsda01     1981.0        12.0      27.0          USA         CO   \n\n  birthCity  deathYear  deathMonth  deathDay  ...  RBI   SB   CS BB   SO  IBB  \\\n0    Denver        NaN         NaN       NaN  ...  0.0  0.0  0.0  0  0.0  0.0   \n1    Denver        NaN         NaN       NaN  ...  0.0  0.0  0.0  0  0.0  0.0   \n2    Denver        NaN         NaN       NaN  ...  0.0  0.0  0.0  0  0.0  0.0   \n3    Denver        NaN         NaN       NaN  ...  0.0  0.0  0.0  0  1.0  0.0   \n4    Denver        NaN         NaN       NaN  ...  0.0  0.0  0.0  0  0.0  0.0   \n\n   HBP   SH   SF GIDP  \n0  0.0  0.0  0.0  0.0  \n1  0.0  1.0  0.0  0.0  \n2  0.0  0.0  0.0  0.0  \n3  0.0  0.0  0.0  0.0  \n4  0.0  0.0  0.0  0.0  \n\n[5 rows x 45 columns]",
      "text/html": "<div>\n<style scoped>\n    .dataframe tbody tr th:only-of-type {\n        vertical-align: middle;\n    }\n\n    .dataframe tbody tr th {\n        vertical-align: top;\n    }\n\n    .dataframe thead th {\n        text-align: right;\n    }\n</style>\n<table border=\"1\" class=\"dataframe\">\n  <thead>\n    <tr style=\"text-align: right;\">\n      <th></th>\n      <th>playerID</th>\n      <th>birthYear</th>\n      <th>birthMonth</th>\n      <th>birthDay</th>\n      <th>birthCountry</th>\n      <th>birthState</th>\n      <th>birthCity</th>\n      <th>deathYear</th>\n      <th>deathMonth</th>\n      <th>deathDay</th>\n      <th>...</th>\n      <th>RBI</th>\n      <th>SB</th>\n      <th>CS</th>\n      <th>BB</th>\n      <th>SO</th>\n      <th>IBB</th>\n      <th>HBP</th>\n      <th>SH</th>\n      <th>SF</th>\n      <th>GIDP</th>\n    </tr>\n  </thead>\n  <tbody>\n    <tr>\n      <th>0</th>\n      <td>aardsda01</td>\n      <td>1981.0</td>\n      <td>12.0</td>\n      <td>27.0</td>\n      <td>USA</td>\n      <td>CO</td>\n      <td>Denver</td>\n      <td>NaN</td>\n      <td>NaN</td>\n      <td>NaN</td>\n      <td>...</td>\n      <td>0.0</td>\n      <td>0.0</td>\n      <td>0.0</td>\n      <td>0</td>\n      <td>0.0</td>\n      <td>0.0</td>\n      <td>0.0</td>\n      <td>0.0</td>\n      <td>0.0</td>\n      <td>0.0</td>\n    </tr>\n    <tr>\n      <th>1</th>\n      <td>aardsda01</td>\n      <td>1981.0</td>\n      <td>12.0</td>\n      <td>27.0</td>\n      <td>USA</td>\n      <td>CO</td>\n      <td>Denver</td>\n      <td>NaN</td>\n      <td>NaN</td>\n      <td>NaN</td>\n      <td>...</td>\n      <td>0.0</td>\n      <td>0.0</td>\n      <td>0.0</td>\n      <td>0</td>\n      <td>0.0</td>\n      <td>0.0</td>\n      <td>0.0</td>\n      <td>1.0</td>\n      <td>0.0</td>\n      <td>0.0</td>\n    </tr>\n    <tr>\n      <th>2</th>\n      <td>aardsda01</td>\n      <td>1981.0</td>\n      <td>12.0</td>\n      <td>27.0</td>\n      <td>USA</td>\n      <td>CO</td>\n      <td>Denver</td>\n      <td>NaN</td>\n      <td>NaN</td>\n      <td>NaN</td>\n      <td>...</td>\n      <td>0.0</td>\n      <td>0.0</td>\n      <td>0.0</td>\n      <td>0</td>\n      <td>0.0</td>\n      <td>0.0</td>\n      <td>0.0</td>\n      <td>0.0</td>\n      <td>0.0</td>\n      <td>0.0</td>\n    </tr>\n    <tr>\n      <th>3</th>\n      <td>aardsda01</td>\n      <td>1981.0</td>\n      <td>12.0</td>\n      <td>27.0</td>\n      <td>USA</td>\n      <td>CO</td>\n      <td>Denver</td>\n      <td>NaN</td>\n      <td>NaN</td>\n      <td>NaN</td>\n      <td>...</td>\n      <td>0.0</td>\n      <td>0.0</td>\n      <td>0.0</td>\n      <td>0</td>\n      <td>1.0</td>\n      <td>0.0</td>\n      <td>0.0</td>\n      <td>0.0</td>\n      <td>0.0</td>\n      <td>0.0</td>\n    </tr>\n    <tr>\n      <th>4</th>\n      <td>aardsda01</td>\n      <td>1981.0</td>\n      <td>12.0</td>\n      <td>27.0</td>\n      <td>USA</td>\n      <td>CO</td>\n      <td>Denver</td>\n      <td>NaN</td>\n      <td>NaN</td>\n      <td>NaN</td>\n      <td>...</td>\n      <td>0.0</td>\n      <td>0.0</td>\n      <td>0.0</td>\n      <td>0</td>\n      <td>0.0</td>\n      <td>0.0</td>\n      <td>0.0</td>\n      <td>0.0</td>\n      <td>0.0</td>\n      <td>0.0</td>\n    </tr>\n  </tbody>\n</table>\n<p>5 rows × 45 columns</p>\n</div>"
     },
     "metadata": {},
     "output_type": "display_data"
    }
   ],
   "source": [
    "player_and_batting = pd.merge(players, batting, on='playerID')\n",
    "\n",
    "display(player_and_batting.head())\n"
   ],
   "metadata": {
    "collapsed": false,
    "pycharm": {
     "name": "#%%\n"
    }
   }
  }
 ],
 "metadata": {
  "kernelspec": {
   "display_name": "Python 3",
   "language": "python",
   "name": "python3"
  },
  "language_info": {
   "codemirror_mode": {
    "name": "ipython",
    "version": 2
   },
   "file_extension": ".py",
   "mimetype": "text/x-python",
   "name": "python",
   "nbconvert_exporter": "python",
   "pygments_lexer": "ipython2",
   "version": "2.7.6"
  }
 },
 "nbformat": 4,
 "nbformat_minor": 0
}