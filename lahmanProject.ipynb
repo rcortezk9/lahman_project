{
 "cells": [
  {
   "cell_type": "markdown",
   "source": [
    "## Lahman's Baseball Data Science project\n",
    "\n",
    "<p>Stats for active players that have played at least 50 games in their careers<p>"
   ],
   "metadata": {
    "collapsed": false,
    "pycharm": {
     "name": "#%% md\n"
    }
   }
  },
  {
   "cell_type": "code",
   "execution_count": 9,
   "metadata": {
    "collapsed": true,
    "pycharm": {
     "name": "#%%\n"
    }
   },
   "outputs": [
    {
     "data": {
      "text/plain": "    playerID  birthYear  birthMonth  birthDay birthCountry birthState  \\\n0  aardsda01     1981.0        12.0      27.0          USA         CO   \n1  aaronha01     1934.0         2.0       5.0          USA         AL   \n2  aaronto01     1939.0         8.0       5.0          USA         AL   \n3   aasedo01     1954.0         9.0       8.0          USA         CA   \n4   abadan01     1972.0         8.0      25.0          USA         FL   \n\n    birthCity  deathYear  deathMonth  deathDay  ... nameLast       nameGiven  \\\n0      Denver        NaN         NaN       NaN  ...  Aardsma     David Allan   \n1      Mobile        NaN         NaN       NaN  ...    Aaron     Henry Louis   \n2      Mobile     1984.0         8.0      16.0  ...    Aaron      Tommie Lee   \n3      Orange        NaN         NaN       NaN  ...     Aase  Donald William   \n4  Palm Beach        NaN         NaN       NaN  ...     Abad   Fausto Andres   \n\n  weight height bats throws       debut   finalGame   retroID    bbrefID  \n0  215.0   75.0    R      R  2004-04-06  2015-08-23  aardd001  aardsda01  \n1  180.0   72.0    R      R  1954-04-13  1976-10-03  aaroh101  aaronha01  \n2  190.0   75.0    R      R  1962-04-10  1971-09-26  aarot101  aaronto01  \n3  190.0   75.0    R      R  1977-07-26  1990-10-03  aased001   aasedo01  \n4  184.0   73.0    L      L  2001-09-10  2006-04-13  abada001   abadan01  \n\n[5 rows x 24 columns]",
      "text/html": "<div>\n<style scoped>\n    .dataframe tbody tr th:only-of-type {\n        vertical-align: middle;\n    }\n\n    .dataframe tbody tr th {\n        vertical-align: top;\n    }\n\n    .dataframe thead th {\n        text-align: right;\n    }\n</style>\n<table border=\"1\" class=\"dataframe\">\n  <thead>\n    <tr style=\"text-align: right;\">\n      <th></th>\n      <th>playerID</th>\n      <th>birthYear</th>\n      <th>birthMonth</th>\n      <th>birthDay</th>\n      <th>birthCountry</th>\n      <th>birthState</th>\n      <th>birthCity</th>\n      <th>deathYear</th>\n      <th>deathMonth</th>\n      <th>deathDay</th>\n      <th>...</th>\n      <th>nameLast</th>\n      <th>nameGiven</th>\n      <th>weight</th>\n      <th>height</th>\n      <th>bats</th>\n      <th>throws</th>\n      <th>debut</th>\n      <th>finalGame</th>\n      <th>retroID</th>\n      <th>bbrefID</th>\n    </tr>\n  </thead>\n  <tbody>\n    <tr>\n      <th>0</th>\n      <td>aardsda01</td>\n      <td>1981.0</td>\n      <td>12.0</td>\n      <td>27.0</td>\n      <td>USA</td>\n      <td>CO</td>\n      <td>Denver</td>\n      <td>NaN</td>\n      <td>NaN</td>\n      <td>NaN</td>\n      <td>...</td>\n      <td>Aardsma</td>\n      <td>David Allan</td>\n      <td>215.0</td>\n      <td>75.0</td>\n      <td>R</td>\n      <td>R</td>\n      <td>2004-04-06</td>\n      <td>2015-08-23</td>\n      <td>aardd001</td>\n      <td>aardsda01</td>\n    </tr>\n    <tr>\n      <th>1</th>\n      <td>aaronha01</td>\n      <td>1934.0</td>\n      <td>2.0</td>\n      <td>5.0</td>\n      <td>USA</td>\n      <td>AL</td>\n      <td>Mobile</td>\n      <td>NaN</td>\n      <td>NaN</td>\n      <td>NaN</td>\n      <td>...</td>\n      <td>Aaron</td>\n      <td>Henry Louis</td>\n      <td>180.0</td>\n      <td>72.0</td>\n      <td>R</td>\n      <td>R</td>\n      <td>1954-04-13</td>\n      <td>1976-10-03</td>\n      <td>aaroh101</td>\n      <td>aaronha01</td>\n    </tr>\n    <tr>\n      <th>2</th>\n      <td>aaronto01</td>\n      <td>1939.0</td>\n      <td>8.0</td>\n      <td>5.0</td>\n      <td>USA</td>\n      <td>AL</td>\n      <td>Mobile</td>\n      <td>1984.0</td>\n      <td>8.0</td>\n      <td>16.0</td>\n      <td>...</td>\n      <td>Aaron</td>\n      <td>Tommie Lee</td>\n      <td>190.0</td>\n      <td>75.0</td>\n      <td>R</td>\n      <td>R</td>\n      <td>1962-04-10</td>\n      <td>1971-09-26</td>\n      <td>aarot101</td>\n      <td>aaronto01</td>\n    </tr>\n    <tr>\n      <th>3</th>\n      <td>aasedo01</td>\n      <td>1954.0</td>\n      <td>9.0</td>\n      <td>8.0</td>\n      <td>USA</td>\n      <td>CA</td>\n      <td>Orange</td>\n      <td>NaN</td>\n      <td>NaN</td>\n      <td>NaN</td>\n      <td>...</td>\n      <td>Aase</td>\n      <td>Donald William</td>\n      <td>190.0</td>\n      <td>75.0</td>\n      <td>R</td>\n      <td>R</td>\n      <td>1977-07-26</td>\n      <td>1990-10-03</td>\n      <td>aased001</td>\n      <td>aasedo01</td>\n    </tr>\n    <tr>\n      <th>4</th>\n      <td>abadan01</td>\n      <td>1972.0</td>\n      <td>8.0</td>\n      <td>25.0</td>\n      <td>USA</td>\n      <td>FL</td>\n      <td>Palm Beach</td>\n      <td>NaN</td>\n      <td>NaN</td>\n      <td>NaN</td>\n      <td>...</td>\n      <td>Abad</td>\n      <td>Fausto Andres</td>\n      <td>184.0</td>\n      <td>73.0</td>\n      <td>L</td>\n      <td>L</td>\n      <td>2001-09-10</td>\n      <td>2006-04-13</td>\n      <td>abada001</td>\n      <td>abadan01</td>\n    </tr>\n  </tbody>\n</table>\n<p>5 rows × 24 columns</p>\n</div>"
     },
     "metadata": {},
     "output_type": "display_data"
    },
    {
     "data": {
      "text/plain": "Index(['playerID', 'birthYear', 'birthMonth', 'birthDay', 'birthCountry',\n       'birthState', 'birthCity', 'deathYear', 'deathMonth', 'deathDay',\n       'deathCountry', 'deathState', 'deathCity', 'nameFirst', 'nameLast',\n       'nameGiven', 'weight', 'height', 'bats', 'throws', 'debut', 'finalGame',\n       'retroID', 'bbrefID'],\n      dtype='object')"
     },
     "metadata": {},
     "output_type": "display_data"
    },
    {
     "name": "stdout",
     "output_type": "stream",
     "text": [
      "\n",
      "\n"
     ]
    },
    {
     "data": {
      "text/plain": "    playerID   G   AB   R   H  2B  3B  HR   RBI   SB   CS  BB   SO  IBB  HBP  \\\n0  abercda01   1    4   0   0   0   0   0   0.0  0.0  0.0   0  0.0  NaN  NaN   \n1   addybo01  25  118  30  32   6   0   0  13.0  8.0  1.0   4  0.0  NaN  NaN   \n2  allisar01  29  137  28  40   4   5   0  19.0  3.0  1.0   2  5.0  NaN  NaN   \n3  allisdo01  27  133  28  44  10   2   2  27.0  1.0  1.0   0  2.0  NaN  NaN   \n4  ansonca01  25  120  29  39  11   3   0  16.0  6.0  2.0   2  1.0  NaN  NaN   \n\n   SH  SF  GIDP  \n0 NaN NaN   0.0  \n1 NaN NaN   0.0  \n2 NaN NaN   1.0  \n3 NaN NaN   0.0  \n4 NaN NaN   0.0  ",
      "text/html": "<div>\n<style scoped>\n    .dataframe tbody tr th:only-of-type {\n        vertical-align: middle;\n    }\n\n    .dataframe tbody tr th {\n        vertical-align: top;\n    }\n\n    .dataframe thead th {\n        text-align: right;\n    }\n</style>\n<table border=\"1\" class=\"dataframe\">\n  <thead>\n    <tr style=\"text-align: right;\">\n      <th></th>\n      <th>playerID</th>\n      <th>G</th>\n      <th>AB</th>\n      <th>R</th>\n      <th>H</th>\n      <th>2B</th>\n      <th>3B</th>\n      <th>HR</th>\n      <th>RBI</th>\n      <th>SB</th>\n      <th>CS</th>\n      <th>BB</th>\n      <th>SO</th>\n      <th>IBB</th>\n      <th>HBP</th>\n      <th>SH</th>\n      <th>SF</th>\n      <th>GIDP</th>\n    </tr>\n  </thead>\n  <tbody>\n    <tr>\n      <th>0</th>\n      <td>abercda01</td>\n      <td>1</td>\n      <td>4</td>\n      <td>0</td>\n      <td>0</td>\n      <td>0</td>\n      <td>0</td>\n      <td>0</td>\n      <td>0.0</td>\n      <td>0.0</td>\n      <td>0.0</td>\n      <td>0</td>\n      <td>0.0</td>\n      <td>NaN</td>\n      <td>NaN</td>\n      <td>NaN</td>\n      <td>NaN</td>\n      <td>0.0</td>\n    </tr>\n    <tr>\n      <th>1</th>\n      <td>addybo01</td>\n      <td>25</td>\n      <td>118</td>\n      <td>30</td>\n      <td>32</td>\n      <td>6</td>\n      <td>0</td>\n      <td>0</td>\n      <td>13.0</td>\n      <td>8.0</td>\n      <td>1.0</td>\n      <td>4</td>\n      <td>0.0</td>\n      <td>NaN</td>\n      <td>NaN</td>\n      <td>NaN</td>\n      <td>NaN</td>\n      <td>0.0</td>\n    </tr>\n    <tr>\n      <th>2</th>\n      <td>allisar01</td>\n      <td>29</td>\n      <td>137</td>\n      <td>28</td>\n      <td>40</td>\n      <td>4</td>\n      <td>5</td>\n      <td>0</td>\n      <td>19.0</td>\n      <td>3.0</td>\n      <td>1.0</td>\n      <td>2</td>\n      <td>5.0</td>\n      <td>NaN</td>\n      <td>NaN</td>\n      <td>NaN</td>\n      <td>NaN</td>\n      <td>1.0</td>\n    </tr>\n    <tr>\n      <th>3</th>\n      <td>allisdo01</td>\n      <td>27</td>\n      <td>133</td>\n      <td>28</td>\n      <td>44</td>\n      <td>10</td>\n      <td>2</td>\n      <td>2</td>\n      <td>27.0</td>\n      <td>1.0</td>\n      <td>1.0</td>\n      <td>0</td>\n      <td>2.0</td>\n      <td>NaN</td>\n      <td>NaN</td>\n      <td>NaN</td>\n      <td>NaN</td>\n      <td>0.0</td>\n    </tr>\n    <tr>\n      <th>4</th>\n      <td>ansonca01</td>\n      <td>25</td>\n      <td>120</td>\n      <td>29</td>\n      <td>39</td>\n      <td>11</td>\n      <td>3</td>\n      <td>0</td>\n      <td>16.0</td>\n      <td>6.0</td>\n      <td>2.0</td>\n      <td>2</td>\n      <td>1.0</td>\n      <td>NaN</td>\n      <td>NaN</td>\n      <td>NaN</td>\n      <td>NaN</td>\n      <td>0.0</td>\n    </tr>\n  </tbody>\n</table>\n</div>"
     },
     "metadata": {},
     "output_type": "display_data"
    },
    {
     "data": {
      "text/plain": "Index(['playerID', 'G', 'AB', 'R', 'H', '2B', '3B', 'HR', 'RBI', 'SB', 'CS',\n       'BB', 'SO', 'IBB', 'HBP', 'SH', 'SF', 'GIDP'],\n      dtype='object')"
     },
     "metadata": {},
     "output_type": "display_data"
    }
   ],
   "source": [
    "import pandas as pd\n",
    "from IPython.core.display import display\n",
    "import numpy as np\n",
    "import matplotlib.pyplot as plt\n",
    "\n",
    "col = ['playerID','G', 'AB', 'R','H', '2B', '3B', 'HR', 'RBI','SB', 'CS','BB','SO', 'IBB','HBP', 'SH', 'SF', 'GIDP']\n",
    "\n",
    "players = pd.read_csv('People.csv')\n",
    "batting = pd.read_csv('Batting.csv', usecols=col)\n",
    "\n",
    "display(players.head())\n",
    "display(players.columns)\n",
    "print('\\n')\n",
    "display(batting.head())\n",
    "display(batting.columns)"
   ]
  },
  {
   "cell_type": "markdown",
   "source": [
    "<p>Get the overall totals for each</p>"
   ],
   "metadata": {
    "collapsed": false,
    "pycharm": {
     "name": "#%% md\n"
    }
   }
  },
  {
   "cell_type": "code",
   "execution_count": 10,
   "outputs": [
    {
     "data": {
      "text/plain": "    playerID     G     AB     R     H   2B  3B   HR     RBI     SB    CS  \\\n0  aardsda01   331      4     0     0    0   0    0     0.0    0.0   0.0   \n1  aaronha01  3298  12364  2174  3771  624  98  755  2297.0  240.0  73.0   \n2  aaronto01   437    944   102   216   42   6   13    94.0    9.0   8.0   \n3   aasedo01   448      5     0     0    0   0    0     0.0    0.0   0.0   \n4   abadan01    15     21     1     2    0   0    0     0.0    0.0   1.0   \n5   abadfe01   384      9     0     1    0   0    0     0.0    0.0   0.0   \n6  abadijo01    12     49     4    11    0   0    0     5.0    1.0   0.0   \n7  abbated01   855   3044   355   772   99  43   11   324.0  142.0   0.0   \n8  abbeybe01    79    225    21    38    3   3    0    17.0    3.0   0.0   \n9  abbeych01   452   1756   307   493   67  46   19   280.0   93.0   0.0   \n\n     BB      SO    IBB   HBP    SH     SF   GIDP  \n0     0     2.0    0.0   0.0   1.0    0.0    0.0  \n1  1402  1383.0  293.0  32.0  21.0  121.0  328.0  \n2    86   145.0    3.0   0.0   9.0    6.0   36.0  \n3     0     3.0    0.0   0.0   0.0    0.0    0.0  \n4     4     5.0    0.0   0.0   0.0    0.0    1.0  \n5     0     5.0    0.0   0.0   0.0    0.0    1.0  \n6     0     3.0    0.0   0.0   0.0    0.0    0.0  \n7   289   283.0    0.0  33.0  93.0    0.0    0.0  \n8    21    54.0    0.0   0.0   6.0    0.0    0.0  \n9   167   122.0    0.0  23.0  19.0    0.0    0.0  ",
      "text/html": "<div>\n<style scoped>\n    .dataframe tbody tr th:only-of-type {\n        vertical-align: middle;\n    }\n\n    .dataframe tbody tr th {\n        vertical-align: top;\n    }\n\n    .dataframe thead th {\n        text-align: right;\n    }\n</style>\n<table border=\"1\" class=\"dataframe\">\n  <thead>\n    <tr style=\"text-align: right;\">\n      <th></th>\n      <th>playerID</th>\n      <th>G</th>\n      <th>AB</th>\n      <th>R</th>\n      <th>H</th>\n      <th>2B</th>\n      <th>3B</th>\n      <th>HR</th>\n      <th>RBI</th>\n      <th>SB</th>\n      <th>CS</th>\n      <th>BB</th>\n      <th>SO</th>\n      <th>IBB</th>\n      <th>HBP</th>\n      <th>SH</th>\n      <th>SF</th>\n      <th>GIDP</th>\n    </tr>\n  </thead>\n  <tbody>\n    <tr>\n      <th>0</th>\n      <td>aardsda01</td>\n      <td>331</td>\n      <td>4</td>\n      <td>0</td>\n      <td>0</td>\n      <td>0</td>\n      <td>0</td>\n      <td>0</td>\n      <td>0.0</td>\n      <td>0.0</td>\n      <td>0.0</td>\n      <td>0</td>\n      <td>2.0</td>\n      <td>0.0</td>\n      <td>0.0</td>\n      <td>1.0</td>\n      <td>0.0</td>\n      <td>0.0</td>\n    </tr>\n    <tr>\n      <th>1</th>\n      <td>aaronha01</td>\n      <td>3298</td>\n      <td>12364</td>\n      <td>2174</td>\n      <td>3771</td>\n      <td>624</td>\n      <td>98</td>\n      <td>755</td>\n      <td>2297.0</td>\n      <td>240.0</td>\n      <td>73.0</td>\n      <td>1402</td>\n      <td>1383.0</td>\n      <td>293.0</td>\n      <td>32.0</td>\n      <td>21.0</td>\n      <td>121.0</td>\n      <td>328.0</td>\n    </tr>\n    <tr>\n      <th>2</th>\n      <td>aaronto01</td>\n      <td>437</td>\n      <td>944</td>\n      <td>102</td>\n      <td>216</td>\n      <td>42</td>\n      <td>6</td>\n      <td>13</td>\n      <td>94.0</td>\n      <td>9.0</td>\n      <td>8.0</td>\n      <td>86</td>\n      <td>145.0</td>\n      <td>3.0</td>\n      <td>0.0</td>\n      <td>9.0</td>\n      <td>6.0</td>\n      <td>36.0</td>\n    </tr>\n    <tr>\n      <th>3</th>\n      <td>aasedo01</td>\n      <td>448</td>\n      <td>5</td>\n      <td>0</td>\n      <td>0</td>\n      <td>0</td>\n      <td>0</td>\n      <td>0</td>\n      <td>0.0</td>\n      <td>0.0</td>\n      <td>0.0</td>\n      <td>0</td>\n      <td>3.0</td>\n      <td>0.0</td>\n      <td>0.0</td>\n      <td>0.0</td>\n      <td>0.0</td>\n      <td>0.0</td>\n    </tr>\n    <tr>\n      <th>4</th>\n      <td>abadan01</td>\n      <td>15</td>\n      <td>21</td>\n      <td>1</td>\n      <td>2</td>\n      <td>0</td>\n      <td>0</td>\n      <td>0</td>\n      <td>0.0</td>\n      <td>0.0</td>\n      <td>1.0</td>\n      <td>4</td>\n      <td>5.0</td>\n      <td>0.0</td>\n      <td>0.0</td>\n      <td>0.0</td>\n      <td>0.0</td>\n      <td>1.0</td>\n    </tr>\n    <tr>\n      <th>5</th>\n      <td>abadfe01</td>\n      <td>384</td>\n      <td>9</td>\n      <td>0</td>\n      <td>1</td>\n      <td>0</td>\n      <td>0</td>\n      <td>0</td>\n      <td>0.0</td>\n      <td>0.0</td>\n      <td>0.0</td>\n      <td>0</td>\n      <td>5.0</td>\n      <td>0.0</td>\n      <td>0.0</td>\n      <td>0.0</td>\n      <td>0.0</td>\n      <td>1.0</td>\n    </tr>\n    <tr>\n      <th>6</th>\n      <td>abadijo01</td>\n      <td>12</td>\n      <td>49</td>\n      <td>4</td>\n      <td>11</td>\n      <td>0</td>\n      <td>0</td>\n      <td>0</td>\n      <td>5.0</td>\n      <td>1.0</td>\n      <td>0.0</td>\n      <td>0</td>\n      <td>3.0</td>\n      <td>0.0</td>\n      <td>0.0</td>\n      <td>0.0</td>\n      <td>0.0</td>\n      <td>0.0</td>\n    </tr>\n    <tr>\n      <th>7</th>\n      <td>abbated01</td>\n      <td>855</td>\n      <td>3044</td>\n      <td>355</td>\n      <td>772</td>\n      <td>99</td>\n      <td>43</td>\n      <td>11</td>\n      <td>324.0</td>\n      <td>142.0</td>\n      <td>0.0</td>\n      <td>289</td>\n      <td>283.0</td>\n      <td>0.0</td>\n      <td>33.0</td>\n      <td>93.0</td>\n      <td>0.0</td>\n      <td>0.0</td>\n    </tr>\n    <tr>\n      <th>8</th>\n      <td>abbeybe01</td>\n      <td>79</td>\n      <td>225</td>\n      <td>21</td>\n      <td>38</td>\n      <td>3</td>\n      <td>3</td>\n      <td>0</td>\n      <td>17.0</td>\n      <td>3.0</td>\n      <td>0.0</td>\n      <td>21</td>\n      <td>54.0</td>\n      <td>0.0</td>\n      <td>0.0</td>\n      <td>6.0</td>\n      <td>0.0</td>\n      <td>0.0</td>\n    </tr>\n    <tr>\n      <th>9</th>\n      <td>abbeych01</td>\n      <td>452</td>\n      <td>1756</td>\n      <td>307</td>\n      <td>493</td>\n      <td>67</td>\n      <td>46</td>\n      <td>19</td>\n      <td>280.0</td>\n      <td>93.0</td>\n      <td>0.0</td>\n      <td>167</td>\n      <td>122.0</td>\n      <td>0.0</td>\n      <td>23.0</td>\n      <td>19.0</td>\n      <td>0.0</td>\n      <td>0.0</td>\n    </tr>\n  </tbody>\n</table>\n</div>"
     },
     "execution_count": 10,
     "metadata": {},
     "output_type": "execute_result"
    }
   ],
   "source": [
    "# Groupby 'playerID' to get the total number of games for each player\n",
    "batting_group = batting.groupby('playerID', sort=True).sum()\n",
    "player_totals = batting_group.reset_index()\n",
    "player_totals.head(10)"
   ],
   "metadata": {
    "collapsed": false,
    "pycharm": {
     "name": "#%%\n"
    }
   }
  },
  {
   "cell_type": "markdown",
   "source": [
    "Merge"
   ],
   "metadata": {
    "collapsed": false,
    "pycharm": {
     "name": "#%% md\n"
    }
   }
  },
  {
   "cell_type": "code",
   "execution_count": 11,
   "outputs": [
    {
     "data": {
      "text/plain": "    playerID     G     AB     R     H   2B  3B   HR     RBI     SB  ...  \\\n0  aardsda01   331      4     0     0    0   0    0     0.0    0.0  ...   \n1  aaronha01  3298  12364  2174  3771  624  98  755  2297.0  240.0  ...   \n2  aaronto01   437    944   102   216   42   6   13    94.0    9.0  ...   \n3   aasedo01   448      5     0     0    0   0    0     0.0    0.0  ...   \n4   abadan01    15     21     1     2    0   0    0     0.0    0.0  ...   \n\n   nameLast       nameGiven  weight  height  bats  throws       debut  \\\n0   Aardsma     David Allan   215.0    75.0     R       R  2004-04-06   \n1     Aaron     Henry Louis   180.0    72.0     R       R  1954-04-13   \n2     Aaron      Tommie Lee   190.0    75.0     R       R  1962-04-10   \n3      Aase  Donald William   190.0    75.0     R       R  1977-07-26   \n4      Abad   Fausto Andres   184.0    73.0     L       L  2001-09-10   \n\n    finalGame   retroID    bbrefID  \n0  2015-08-23  aardd001  aardsda01  \n1  1976-10-03  aaroh101  aaronha01  \n2  1971-09-26  aarot101  aaronto01  \n3  1990-10-03  aased001   aasedo01  \n4  2006-04-13  abada001   abadan01  \n\n[5 rows x 41 columns]",
      "text/html": "<div>\n<style scoped>\n    .dataframe tbody tr th:only-of-type {\n        vertical-align: middle;\n    }\n\n    .dataframe tbody tr th {\n        vertical-align: top;\n    }\n\n    .dataframe thead th {\n        text-align: right;\n    }\n</style>\n<table border=\"1\" class=\"dataframe\">\n  <thead>\n    <tr style=\"text-align: right;\">\n      <th></th>\n      <th>playerID</th>\n      <th>G</th>\n      <th>AB</th>\n      <th>R</th>\n      <th>H</th>\n      <th>2B</th>\n      <th>3B</th>\n      <th>HR</th>\n      <th>RBI</th>\n      <th>SB</th>\n      <th>...</th>\n      <th>nameLast</th>\n      <th>nameGiven</th>\n      <th>weight</th>\n      <th>height</th>\n      <th>bats</th>\n      <th>throws</th>\n      <th>debut</th>\n      <th>finalGame</th>\n      <th>retroID</th>\n      <th>bbrefID</th>\n    </tr>\n  </thead>\n  <tbody>\n    <tr>\n      <th>0</th>\n      <td>aardsda01</td>\n      <td>331</td>\n      <td>4</td>\n      <td>0</td>\n      <td>0</td>\n      <td>0</td>\n      <td>0</td>\n      <td>0</td>\n      <td>0.0</td>\n      <td>0.0</td>\n      <td>...</td>\n      <td>Aardsma</td>\n      <td>David Allan</td>\n      <td>215.0</td>\n      <td>75.0</td>\n      <td>R</td>\n      <td>R</td>\n      <td>2004-04-06</td>\n      <td>2015-08-23</td>\n      <td>aardd001</td>\n      <td>aardsda01</td>\n    </tr>\n    <tr>\n      <th>1</th>\n      <td>aaronha01</td>\n      <td>3298</td>\n      <td>12364</td>\n      <td>2174</td>\n      <td>3771</td>\n      <td>624</td>\n      <td>98</td>\n      <td>755</td>\n      <td>2297.0</td>\n      <td>240.0</td>\n      <td>...</td>\n      <td>Aaron</td>\n      <td>Henry Louis</td>\n      <td>180.0</td>\n      <td>72.0</td>\n      <td>R</td>\n      <td>R</td>\n      <td>1954-04-13</td>\n      <td>1976-10-03</td>\n      <td>aaroh101</td>\n      <td>aaronha01</td>\n    </tr>\n    <tr>\n      <th>2</th>\n      <td>aaronto01</td>\n      <td>437</td>\n      <td>944</td>\n      <td>102</td>\n      <td>216</td>\n      <td>42</td>\n      <td>6</td>\n      <td>13</td>\n      <td>94.0</td>\n      <td>9.0</td>\n      <td>...</td>\n      <td>Aaron</td>\n      <td>Tommie Lee</td>\n      <td>190.0</td>\n      <td>75.0</td>\n      <td>R</td>\n      <td>R</td>\n      <td>1962-04-10</td>\n      <td>1971-09-26</td>\n      <td>aarot101</td>\n      <td>aaronto01</td>\n    </tr>\n    <tr>\n      <th>3</th>\n      <td>aasedo01</td>\n      <td>448</td>\n      <td>5</td>\n      <td>0</td>\n      <td>0</td>\n      <td>0</td>\n      <td>0</td>\n      <td>0</td>\n      <td>0.0</td>\n      <td>0.0</td>\n      <td>...</td>\n      <td>Aase</td>\n      <td>Donald William</td>\n      <td>190.0</td>\n      <td>75.0</td>\n      <td>R</td>\n      <td>R</td>\n      <td>1977-07-26</td>\n      <td>1990-10-03</td>\n      <td>aased001</td>\n      <td>aasedo01</td>\n    </tr>\n    <tr>\n      <th>4</th>\n      <td>abadan01</td>\n      <td>15</td>\n      <td>21</td>\n      <td>1</td>\n      <td>2</td>\n      <td>0</td>\n      <td>0</td>\n      <td>0</td>\n      <td>0.0</td>\n      <td>0.0</td>\n      <td>...</td>\n      <td>Abad</td>\n      <td>Fausto Andres</td>\n      <td>184.0</td>\n      <td>73.0</td>\n      <td>L</td>\n      <td>L</td>\n      <td>2001-09-10</td>\n      <td>2006-04-13</td>\n      <td>abada001</td>\n      <td>abadan01</td>\n    </tr>\n  </tbody>\n</table>\n<p>5 rows × 41 columns</p>\n</div>"
     },
     "metadata": {},
     "output_type": "display_data"
    }
   ],
   "source": [
    "new_players = pd.merge(player_totals, players, on='playerID')\n",
    "display(new_players.head())"
   ],
   "metadata": {
    "collapsed": false,
    "pycharm": {
     "name": "#%%\n"
    }
   }
  },
  {
   "cell_type": "code",
   "execution_count": 12,
   "outputs": [
    {
     "data": {
      "text/plain": "    playerID     G     AB     R     H   2B  3B   HR     RBI     SB  ...  \\\n0  aardsda01   331      4     0     0    0   0    0     0.0    0.0  ...   \n1  aaronha01  3298  12364  2174  3771  624  98  755  2297.0  240.0  ...   \n2  aaronto01   437    944   102   216   42   6   13    94.0    9.0  ...   \n3   aasedo01   448      5     0     0    0   0    0     0.0    0.0  ...   \n4   abadan01    15     21     1     2    0   0    0     0.0    0.0  ...   \n\n   weight  height  bats  throws       debut   finalGame   retroID    bbrefID  \\\n0   215.0    75.0     R       R  2004-04-06  2015-08-23  aardd001  aardsda01   \n1   180.0    72.0     R       R  1954-04-13  1976-10-03  aaroh101  aaronha01   \n2   190.0    75.0     R       R  1962-04-10  1971-09-26  aarot101  aaronto01   \n3   190.0    75.0     R       R  1977-07-26  1990-10-03  aased001   aasedo01   \n4   184.0    73.0     L       L  2001-09-10  2006-04-13  abada001   abadan01   \n\n          DOB       fullName  \n0  1981-12-27  David Aardsma  \n1    1934-2-5     Hank Aaron  \n2    1939-8-5   Tommie Aaron  \n3    1954-9-8       Don Aase  \n4   1972-8-25      Andy Abad  \n\n[5 rows x 38 columns]",
      "text/html": "<div>\n<style scoped>\n    .dataframe tbody tr th:only-of-type {\n        vertical-align: middle;\n    }\n\n    .dataframe tbody tr th {\n        vertical-align: top;\n    }\n\n    .dataframe thead th {\n        text-align: right;\n    }\n</style>\n<table border=\"1\" class=\"dataframe\">\n  <thead>\n    <tr style=\"text-align: right;\">\n      <th></th>\n      <th>playerID</th>\n      <th>G</th>\n      <th>AB</th>\n      <th>R</th>\n      <th>H</th>\n      <th>2B</th>\n      <th>3B</th>\n      <th>HR</th>\n      <th>RBI</th>\n      <th>SB</th>\n      <th>...</th>\n      <th>weight</th>\n      <th>height</th>\n      <th>bats</th>\n      <th>throws</th>\n      <th>debut</th>\n      <th>finalGame</th>\n      <th>retroID</th>\n      <th>bbrefID</th>\n      <th>DOB</th>\n      <th>fullName</th>\n    </tr>\n  </thead>\n  <tbody>\n    <tr>\n      <th>0</th>\n      <td>aardsda01</td>\n      <td>331</td>\n      <td>4</td>\n      <td>0</td>\n      <td>0</td>\n      <td>0</td>\n      <td>0</td>\n      <td>0</td>\n      <td>0.0</td>\n      <td>0.0</td>\n      <td>...</td>\n      <td>215.0</td>\n      <td>75.0</td>\n      <td>R</td>\n      <td>R</td>\n      <td>2004-04-06</td>\n      <td>2015-08-23</td>\n      <td>aardd001</td>\n      <td>aardsda01</td>\n      <td>1981-12-27</td>\n      <td>David Aardsma</td>\n    </tr>\n    <tr>\n      <th>1</th>\n      <td>aaronha01</td>\n      <td>3298</td>\n      <td>12364</td>\n      <td>2174</td>\n      <td>3771</td>\n      <td>624</td>\n      <td>98</td>\n      <td>755</td>\n      <td>2297.0</td>\n      <td>240.0</td>\n      <td>...</td>\n      <td>180.0</td>\n      <td>72.0</td>\n      <td>R</td>\n      <td>R</td>\n      <td>1954-04-13</td>\n      <td>1976-10-03</td>\n      <td>aaroh101</td>\n      <td>aaronha01</td>\n      <td>1934-2-5</td>\n      <td>Hank Aaron</td>\n    </tr>\n    <tr>\n      <th>2</th>\n      <td>aaronto01</td>\n      <td>437</td>\n      <td>944</td>\n      <td>102</td>\n      <td>216</td>\n      <td>42</td>\n      <td>6</td>\n      <td>13</td>\n      <td>94.0</td>\n      <td>9.0</td>\n      <td>...</td>\n      <td>190.0</td>\n      <td>75.0</td>\n      <td>R</td>\n      <td>R</td>\n      <td>1962-04-10</td>\n      <td>1971-09-26</td>\n      <td>aarot101</td>\n      <td>aaronto01</td>\n      <td>1939-8-5</td>\n      <td>Tommie Aaron</td>\n    </tr>\n    <tr>\n      <th>3</th>\n      <td>aasedo01</td>\n      <td>448</td>\n      <td>5</td>\n      <td>0</td>\n      <td>0</td>\n      <td>0</td>\n      <td>0</td>\n      <td>0</td>\n      <td>0.0</td>\n      <td>0.0</td>\n      <td>...</td>\n      <td>190.0</td>\n      <td>75.0</td>\n      <td>R</td>\n      <td>R</td>\n      <td>1977-07-26</td>\n      <td>1990-10-03</td>\n      <td>aased001</td>\n      <td>aasedo01</td>\n      <td>1954-9-8</td>\n      <td>Don Aase</td>\n    </tr>\n    <tr>\n      <th>4</th>\n      <td>abadan01</td>\n      <td>15</td>\n      <td>21</td>\n      <td>1</td>\n      <td>2</td>\n      <td>0</td>\n      <td>0</td>\n      <td>0</td>\n      <td>0.0</td>\n      <td>0.0</td>\n      <td>...</td>\n      <td>184.0</td>\n      <td>73.0</td>\n      <td>L</td>\n      <td>L</td>\n      <td>2001-09-10</td>\n      <td>2006-04-13</td>\n      <td>abada001</td>\n      <td>abadan01</td>\n      <td>1972-8-25</td>\n      <td>Andy Abad</td>\n    </tr>\n  </tbody>\n</table>\n<p>5 rows × 38 columns</p>\n</div>"
     },
     "metadata": {},
     "output_type": "display_data"
    }
   ],
   "source": [
    "# Using the f\" to format\n",
    "year = new_players['birthYear'].apply(lambda x: f'{x:.0f}')\n",
    "month = new_players['birthMonth'].apply(lambda x: f'{x:.0f}')\n",
    "day = new_players['birthDay'].apply(lambda x: f'{x:.0f}')\n",
    "\n",
    "# Concate birth year, month, day\n",
    "dob =  year + \"-\" + month + \"-\" + day\n",
    "# Add column with birth info\n",
    "new_players['DOB'] = dob\n",
    "\n",
    "new_players['fullName'] = new_players['nameFirst'].astype(str) + \" \" + new_players['nameLast'].astype(str)\n",
    "\n",
    "new_players.drop(['birthYear', 'birthMonth', 'birthDay', 'nameFirst', 'nameLast'], axis=1, inplace=True)\n",
    "\n",
    "display(new_players.head())"
   ],
   "metadata": {
    "collapsed": false,
    "pycharm": {
     "name": "#%%\n"
    }
   }
  },
  {
   "cell_type": "code",
   "execution_count": 14,
   "outputs": [
    {
     "data": {
      "text/plain": "pandas.core.series.Series"
     },
     "execution_count": 14,
     "metadata": {},
     "output_type": "execute_result"
    }
   ],
   "source": [
    "type(new_players['G'])"
   ],
   "metadata": {
    "collapsed": false,
    "pycharm": {
     "name": "#%%\n"
    }
   }
  }
 ],
 "metadata": {
  "kernelspec": {
   "display_name": "Python 3",
   "language": "python",
   "name": "python3"
  },
  "language_info": {
   "codemirror_mode": {
    "name": "ipython",
    "version": 2
   },
   "file_extension": ".py",
   "mimetype": "text/x-python",
   "name": "python",
   "nbconvert_exporter": "python",
   "pygments_lexer": "ipython2",
   "version": "2.7.6"
  }
 },
 "nbformat": 4,
 "nbformat_minor": 0
}