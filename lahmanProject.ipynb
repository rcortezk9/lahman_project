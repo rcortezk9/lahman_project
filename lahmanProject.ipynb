{
 "cells": [
  {
   "cell_type": "markdown",
   "source": [
    "## Lahman's Baseball Data Science project\n",
    "\n",
    "<p>Stats for active players that have played at least 50 games in their careers<p>"
   ],
   "metadata": {
    "collapsed": false,
    "pycharm": {
     "name": "#%% md\n"
    }
   }
  },
  {
   "cell_type": "code",
   "execution_count": 21,
   "metadata": {
    "collapsed": true,
    "pycharm": {
     "name": "#%%\n"
    }
   },
   "outputs": [
    {
     "data": {
      "text/plain": "    playerID  birthYear  birthMonth  birthDay birthCountry birthState  \\\n0  aardsda01     1981.0        12.0      27.0          USA         CO   \n1  aaronha01     1934.0         2.0       5.0          USA         AL   \n2  aaronto01     1939.0         8.0       5.0          USA         AL   \n3   aasedo01     1954.0         9.0       8.0          USA         CA   \n4   abadan01     1972.0         8.0      25.0          USA         FL   \n\n    birthCity  deathYear  deathMonth  deathDay  ... nameLast       nameGiven  \\\n0      Denver        NaN         NaN       NaN  ...  Aardsma     David Allan   \n1      Mobile        NaN         NaN       NaN  ...    Aaron     Henry Louis   \n2      Mobile     1984.0         8.0      16.0  ...    Aaron      Tommie Lee   \n3      Orange        NaN         NaN       NaN  ...     Aase  Donald William   \n4  Palm Beach        NaN         NaN       NaN  ...     Abad   Fausto Andres   \n\n  weight height bats throws       debut   finalGame   retroID    bbrefID  \n0  215.0   75.0    R      R  2004-04-06  2015-08-23  aardd001  aardsda01  \n1  180.0   72.0    R      R  1954-04-13  1976-10-03  aaroh101  aaronha01  \n2  190.0   75.0    R      R  1962-04-10  1971-09-26  aarot101  aaronto01  \n3  190.0   75.0    R      R  1977-07-26  1990-10-03  aased001   aasedo01  \n4  184.0   73.0    L      L  2001-09-10  2006-04-13  abada001   abadan01  \n\n[5 rows x 24 columns]",
      "text/html": "<div>\n<style scoped>\n    .dataframe tbody tr th:only-of-type {\n        vertical-align: middle;\n    }\n\n    .dataframe tbody tr th {\n        vertical-align: top;\n    }\n\n    .dataframe thead th {\n        text-align: right;\n    }\n</style>\n<table border=\"1\" class=\"dataframe\">\n  <thead>\n    <tr style=\"text-align: right;\">\n      <th></th>\n      <th>playerID</th>\n      <th>birthYear</th>\n      <th>birthMonth</th>\n      <th>birthDay</th>\n      <th>birthCountry</th>\n      <th>birthState</th>\n      <th>birthCity</th>\n      <th>deathYear</th>\n      <th>deathMonth</th>\n      <th>deathDay</th>\n      <th>...</th>\n      <th>nameLast</th>\n      <th>nameGiven</th>\n      <th>weight</th>\n      <th>height</th>\n      <th>bats</th>\n      <th>throws</th>\n      <th>debut</th>\n      <th>finalGame</th>\n      <th>retroID</th>\n      <th>bbrefID</th>\n    </tr>\n  </thead>\n  <tbody>\n    <tr>\n      <th>0</th>\n      <td>aardsda01</td>\n      <td>1981.0</td>\n      <td>12.0</td>\n      <td>27.0</td>\n      <td>USA</td>\n      <td>CO</td>\n      <td>Denver</td>\n      <td>NaN</td>\n      <td>NaN</td>\n      <td>NaN</td>\n      <td>...</td>\n      <td>Aardsma</td>\n      <td>David Allan</td>\n      <td>215.0</td>\n      <td>75.0</td>\n      <td>R</td>\n      <td>R</td>\n      <td>2004-04-06</td>\n      <td>2015-08-23</td>\n      <td>aardd001</td>\n      <td>aardsda01</td>\n    </tr>\n    <tr>\n      <th>1</th>\n      <td>aaronha01</td>\n      <td>1934.0</td>\n      <td>2.0</td>\n      <td>5.0</td>\n      <td>USA</td>\n      <td>AL</td>\n      <td>Mobile</td>\n      <td>NaN</td>\n      <td>NaN</td>\n      <td>NaN</td>\n      <td>...</td>\n      <td>Aaron</td>\n      <td>Henry Louis</td>\n      <td>180.0</td>\n      <td>72.0</td>\n      <td>R</td>\n      <td>R</td>\n      <td>1954-04-13</td>\n      <td>1976-10-03</td>\n      <td>aaroh101</td>\n      <td>aaronha01</td>\n    </tr>\n    <tr>\n      <th>2</th>\n      <td>aaronto01</td>\n      <td>1939.0</td>\n      <td>8.0</td>\n      <td>5.0</td>\n      <td>USA</td>\n      <td>AL</td>\n      <td>Mobile</td>\n      <td>1984.0</td>\n      <td>8.0</td>\n      <td>16.0</td>\n      <td>...</td>\n      <td>Aaron</td>\n      <td>Tommie Lee</td>\n      <td>190.0</td>\n      <td>75.0</td>\n      <td>R</td>\n      <td>R</td>\n      <td>1962-04-10</td>\n      <td>1971-09-26</td>\n      <td>aarot101</td>\n      <td>aaronto01</td>\n    </tr>\n    <tr>\n      <th>3</th>\n      <td>aasedo01</td>\n      <td>1954.0</td>\n      <td>9.0</td>\n      <td>8.0</td>\n      <td>USA</td>\n      <td>CA</td>\n      <td>Orange</td>\n      <td>NaN</td>\n      <td>NaN</td>\n      <td>NaN</td>\n      <td>...</td>\n      <td>Aase</td>\n      <td>Donald William</td>\n      <td>190.0</td>\n      <td>75.0</td>\n      <td>R</td>\n      <td>R</td>\n      <td>1977-07-26</td>\n      <td>1990-10-03</td>\n      <td>aased001</td>\n      <td>aasedo01</td>\n    </tr>\n    <tr>\n      <th>4</th>\n      <td>abadan01</td>\n      <td>1972.0</td>\n      <td>8.0</td>\n      <td>25.0</td>\n      <td>USA</td>\n      <td>FL</td>\n      <td>Palm Beach</td>\n      <td>NaN</td>\n      <td>NaN</td>\n      <td>NaN</td>\n      <td>...</td>\n      <td>Abad</td>\n      <td>Fausto Andres</td>\n      <td>184.0</td>\n      <td>73.0</td>\n      <td>L</td>\n      <td>L</td>\n      <td>2001-09-10</td>\n      <td>2006-04-13</td>\n      <td>abada001</td>\n      <td>abadan01</td>\n    </tr>\n  </tbody>\n</table>\n<p>5 rows × 24 columns</p>\n</div>"
     },
     "metadata": {},
     "output_type": "display_data"
    },
    {
     "data": {
      "text/plain": "Index(['playerID', 'birthYear', 'birthMonth', 'birthDay', 'birthCountry',\n       'birthState', 'birthCity', 'deathYear', 'deathMonth', 'deathDay',\n       'deathCountry', 'deathState', 'deathCity', 'nameFirst', 'nameLast',\n       'nameGiven', 'weight', 'height', 'bats', 'throws', 'debut', 'finalGame',\n       'retroID', 'bbrefID'],\n      dtype='object')"
     },
     "metadata": {},
     "output_type": "display_data"
    },
    {
     "name": "stdout",
     "output_type": "stream",
     "text": [
      "\n",
      "\n"
     ]
    },
    {
     "data": {
      "text/plain": "    playerID  yearID  stint teamID lgID   G   AB   R   H  2B  ...   RBI   SB  \\\n0  abercda01    1871      1    TRO  NaN   1    4   0   0   0  ...   0.0  0.0   \n1   addybo01    1871      1    RC1  NaN  25  118  30  32   6  ...  13.0  8.0   \n2  allisar01    1871      1    CL1  NaN  29  137  28  40   4  ...  19.0  3.0   \n3  allisdo01    1871      1    WS3  NaN  27  133  28  44  10  ...  27.0  1.0   \n4  ansonca01    1871      1    RC1  NaN  25  120  29  39  11  ...  16.0  6.0   \n\n    CS  BB   SO  IBB  HBP  SH  SF  GIDP  \n0  0.0   0  0.0  NaN  NaN NaN NaN   0.0  \n1  1.0   4  0.0  NaN  NaN NaN NaN   0.0  \n2  1.0   2  5.0  NaN  NaN NaN NaN   1.0  \n3  1.0   0  2.0  NaN  NaN NaN NaN   0.0  \n4  2.0   2  1.0  NaN  NaN NaN NaN   0.0  \n\n[5 rows x 22 columns]",
      "text/html": "<div>\n<style scoped>\n    .dataframe tbody tr th:only-of-type {\n        vertical-align: middle;\n    }\n\n    .dataframe tbody tr th {\n        vertical-align: top;\n    }\n\n    .dataframe thead th {\n        text-align: right;\n    }\n</style>\n<table border=\"1\" class=\"dataframe\">\n  <thead>\n    <tr style=\"text-align: right;\">\n      <th></th>\n      <th>playerID</th>\n      <th>yearID</th>\n      <th>stint</th>\n      <th>teamID</th>\n      <th>lgID</th>\n      <th>G</th>\n      <th>AB</th>\n      <th>R</th>\n      <th>H</th>\n      <th>2B</th>\n      <th>...</th>\n      <th>RBI</th>\n      <th>SB</th>\n      <th>CS</th>\n      <th>BB</th>\n      <th>SO</th>\n      <th>IBB</th>\n      <th>HBP</th>\n      <th>SH</th>\n      <th>SF</th>\n      <th>GIDP</th>\n    </tr>\n  </thead>\n  <tbody>\n    <tr>\n      <th>0</th>\n      <td>abercda01</td>\n      <td>1871</td>\n      <td>1</td>\n      <td>TRO</td>\n      <td>NaN</td>\n      <td>1</td>\n      <td>4</td>\n      <td>0</td>\n      <td>0</td>\n      <td>0</td>\n      <td>...</td>\n      <td>0.0</td>\n      <td>0.0</td>\n      <td>0.0</td>\n      <td>0</td>\n      <td>0.0</td>\n      <td>NaN</td>\n      <td>NaN</td>\n      <td>NaN</td>\n      <td>NaN</td>\n      <td>0.0</td>\n    </tr>\n    <tr>\n      <th>1</th>\n      <td>addybo01</td>\n      <td>1871</td>\n      <td>1</td>\n      <td>RC1</td>\n      <td>NaN</td>\n      <td>25</td>\n      <td>118</td>\n      <td>30</td>\n      <td>32</td>\n      <td>6</td>\n      <td>...</td>\n      <td>13.0</td>\n      <td>8.0</td>\n      <td>1.0</td>\n      <td>4</td>\n      <td>0.0</td>\n      <td>NaN</td>\n      <td>NaN</td>\n      <td>NaN</td>\n      <td>NaN</td>\n      <td>0.0</td>\n    </tr>\n    <tr>\n      <th>2</th>\n      <td>allisar01</td>\n      <td>1871</td>\n      <td>1</td>\n      <td>CL1</td>\n      <td>NaN</td>\n      <td>29</td>\n      <td>137</td>\n      <td>28</td>\n      <td>40</td>\n      <td>4</td>\n      <td>...</td>\n      <td>19.0</td>\n      <td>3.0</td>\n      <td>1.0</td>\n      <td>2</td>\n      <td>5.0</td>\n      <td>NaN</td>\n      <td>NaN</td>\n      <td>NaN</td>\n      <td>NaN</td>\n      <td>1.0</td>\n    </tr>\n    <tr>\n      <th>3</th>\n      <td>allisdo01</td>\n      <td>1871</td>\n      <td>1</td>\n      <td>WS3</td>\n      <td>NaN</td>\n      <td>27</td>\n      <td>133</td>\n      <td>28</td>\n      <td>44</td>\n      <td>10</td>\n      <td>...</td>\n      <td>27.0</td>\n      <td>1.0</td>\n      <td>1.0</td>\n      <td>0</td>\n      <td>2.0</td>\n      <td>NaN</td>\n      <td>NaN</td>\n      <td>NaN</td>\n      <td>NaN</td>\n      <td>0.0</td>\n    </tr>\n    <tr>\n      <th>4</th>\n      <td>ansonca01</td>\n      <td>1871</td>\n      <td>1</td>\n      <td>RC1</td>\n      <td>NaN</td>\n      <td>25</td>\n      <td>120</td>\n      <td>29</td>\n      <td>39</td>\n      <td>11</td>\n      <td>...</td>\n      <td>16.0</td>\n      <td>6.0</td>\n      <td>2.0</td>\n      <td>2</td>\n      <td>1.0</td>\n      <td>NaN</td>\n      <td>NaN</td>\n      <td>NaN</td>\n      <td>NaN</td>\n      <td>0.0</td>\n    </tr>\n  </tbody>\n</table>\n<p>5 rows × 22 columns</p>\n</div>"
     },
     "metadata": {},
     "output_type": "display_data"
    },
    {
     "data": {
      "text/plain": "Index(['playerID', 'yearID', 'stint', 'teamID', 'lgID', 'G', 'AB', 'R', 'H',\n       '2B', '3B', 'HR', 'RBI', 'SB', 'CS', 'BB', 'SO', 'IBB', 'HBP', 'SH',\n       'SF', 'GIDP'],\n      dtype='object')"
     },
     "metadata": {},
     "output_type": "display_data"
    }
   ],
   "source": [
    "import pandas as pd\n",
    "from IPython.core.display import display\n",
    "import numpy as np\n",
    "import matplotlib.pyplot as plt\n",
    "\n",
    "players = pd.read_csv('People.csv')\n",
    "batting = pd.read_csv('Batting.csv')\n",
    "\n",
    "display(players.head())\n",
    "display(players.columns)\n",
    "print('\\n')\n",
    "display(batting.head())\n",
    "display(batting.columns)"
   ]
  },
  {
   "cell_type": "markdown",
   "source": [
    "<p>Creating a df that has only active players</p>"
   ],
   "metadata": {
    "collapsed": false,
    "pycharm": {
     "name": "#%% md\n"
    }
   }
  },
  {
   "cell_type": "code",
   "execution_count": 19,
   "outputs": [
    {
     "data": {
      "text/plain": "(1015, 24)"
     },
     "metadata": {},
     "output_type": "display_data"
    }
   ],
   "source": [
    "# Performing a boolean mask to filter active players\n",
    "# Ensure that the finalGame is a date field\n",
    "players['finalGame'] = pd.to_datetime(players['finalGame'])\n",
    "\n",
    "# Setting the start and end date\n",
    "start_date = '2019-12-31'\n",
    "end_date = \"2020-12-31\"\n",
    "\n",
    "# Set the mask\n",
    "mask = (players['finalGame'] > start_date) & (players['finalGame'] <= end_date)\n",
    "\n",
    "# Display just the rows for players with finalGame in 2020\n",
    "active_players = players.loc[mask]\n",
    "display(active_players.shape)"
   ],
   "metadata": {
    "collapsed": false,
    "pycharm": {
     "name": "#%%\n"
    }
   }
  },
  {
   "cell_type": "markdown",
   "source": [
    "<p>Calculated columns for DOB and Full Name</p>"
   ],
   "metadata": {
    "collapsed": false,
    "pycharm": {
     "name": "#%% md\n"
    }
   }
  },
  {
   "cell_type": "code",
   "execution_count": 32,
   "outputs": [
    {
     "data": {
      "text/plain": "(1015, 27)"
     },
     "metadata": {},
     "output_type": "display_data"
    },
    {
     "data": {
      "text/plain": "     playerID  birthYear  birthMonth  birthDay birthCountry  \\\n33  abreual01     1995.0         9.0      26.0         D.R.   \n35  abreubr01     1997.0         4.0      22.0         D.R.   \n37  abreujo02     1987.0         1.0      29.0         Cuba   \n58  acunaro01     1997.0        12.0      18.0    Venezuela   \n63  adamewi01     1995.0         9.0       2.0         D.R.   \n\n           birthState      birthCity  deathYear  deathMonth  deathDay  ...  \\\n33       Monte Cristi       Guayubin        NaN         NaN       NaN  ...   \n35  Distrito Nacional  Santo Domingo        NaN         NaN       NaN  ...   \n37         Cienfuegos     Cienfuegos        NaN         NaN       NaN  ...   \n58             Vargas      La Guaira        NaN         NaN       NaN  ...   \n63           Santiago       Santiago        NaN         NaN       NaN  ...   \n\n   height bats throws       debut  finalGame   retroID    bbrefID  \\\n33   74.0    R      R  2020-08-08 2020-08-08       NaN        NaN   \n35   73.0    R      R  2019-07-31 2020-08-04  abreb002  abreubr01   \n37   75.0    R      R  2014-03-31 2020-08-08  abrej003  abreujo02   \n58   72.0    R      R  2018-04-25 2020-08-08  acunr001  acunaro01   \n63   72.0    R      R  2018-05-22 2020-08-08  adamw002  adamewi01   \n\n       dateOFBirth dateOfBirth        DOB  \n33   1995.09.026.0   1995-9-26 1995-09-26  \n35   1997.04.022.0   1997-4-22 1997-04-22  \n37   1987.01.029.0   1987-1-29 1987-01-29  \n58  1997.012.018.0  1997-12-18 1997-12-18  \n63    1995.09.02.0    1995-9-2 1995-09-02  \n\n[5 rows x 27 columns]",
      "text/html": "<div>\n<style scoped>\n    .dataframe tbody tr th:only-of-type {\n        vertical-align: middle;\n    }\n\n    .dataframe tbody tr th {\n        vertical-align: top;\n    }\n\n    .dataframe thead th {\n        text-align: right;\n    }\n</style>\n<table border=\"1\" class=\"dataframe\">\n  <thead>\n    <tr style=\"text-align: right;\">\n      <th></th>\n      <th>playerID</th>\n      <th>birthYear</th>\n      <th>birthMonth</th>\n      <th>birthDay</th>\n      <th>birthCountry</th>\n      <th>birthState</th>\n      <th>birthCity</th>\n      <th>deathYear</th>\n      <th>deathMonth</th>\n      <th>deathDay</th>\n      <th>...</th>\n      <th>height</th>\n      <th>bats</th>\n      <th>throws</th>\n      <th>debut</th>\n      <th>finalGame</th>\n      <th>retroID</th>\n      <th>bbrefID</th>\n      <th>dateOFBirth</th>\n      <th>dateOfBirth</th>\n      <th>DOB</th>\n    </tr>\n  </thead>\n  <tbody>\n    <tr>\n      <th>33</th>\n      <td>abreual01</td>\n      <td>1995.0</td>\n      <td>9.0</td>\n      <td>26.0</td>\n      <td>D.R.</td>\n      <td>Monte Cristi</td>\n      <td>Guayubin</td>\n      <td>NaN</td>\n      <td>NaN</td>\n      <td>NaN</td>\n      <td>...</td>\n      <td>74.0</td>\n      <td>R</td>\n      <td>R</td>\n      <td>2020-08-08</td>\n      <td>2020-08-08</td>\n      <td>NaN</td>\n      <td>NaN</td>\n      <td>1995.09.026.0</td>\n      <td>1995-9-26</td>\n      <td>1995-09-26</td>\n    </tr>\n    <tr>\n      <th>35</th>\n      <td>abreubr01</td>\n      <td>1997.0</td>\n      <td>4.0</td>\n      <td>22.0</td>\n      <td>D.R.</td>\n      <td>Distrito Nacional</td>\n      <td>Santo Domingo</td>\n      <td>NaN</td>\n      <td>NaN</td>\n      <td>NaN</td>\n      <td>...</td>\n      <td>73.0</td>\n      <td>R</td>\n      <td>R</td>\n      <td>2019-07-31</td>\n      <td>2020-08-04</td>\n      <td>abreb002</td>\n      <td>abreubr01</td>\n      <td>1997.04.022.0</td>\n      <td>1997-4-22</td>\n      <td>1997-04-22</td>\n    </tr>\n    <tr>\n      <th>37</th>\n      <td>abreujo02</td>\n      <td>1987.0</td>\n      <td>1.0</td>\n      <td>29.0</td>\n      <td>Cuba</td>\n      <td>Cienfuegos</td>\n      <td>Cienfuegos</td>\n      <td>NaN</td>\n      <td>NaN</td>\n      <td>NaN</td>\n      <td>...</td>\n      <td>75.0</td>\n      <td>R</td>\n      <td>R</td>\n      <td>2014-03-31</td>\n      <td>2020-08-08</td>\n      <td>abrej003</td>\n      <td>abreujo02</td>\n      <td>1987.01.029.0</td>\n      <td>1987-1-29</td>\n      <td>1987-01-29</td>\n    </tr>\n    <tr>\n      <th>58</th>\n      <td>acunaro01</td>\n      <td>1997.0</td>\n      <td>12.0</td>\n      <td>18.0</td>\n      <td>Venezuela</td>\n      <td>Vargas</td>\n      <td>La Guaira</td>\n      <td>NaN</td>\n      <td>NaN</td>\n      <td>NaN</td>\n      <td>...</td>\n      <td>72.0</td>\n      <td>R</td>\n      <td>R</td>\n      <td>2018-04-25</td>\n      <td>2020-08-08</td>\n      <td>acunr001</td>\n      <td>acunaro01</td>\n      <td>1997.012.018.0</td>\n      <td>1997-12-18</td>\n      <td>1997-12-18</td>\n    </tr>\n    <tr>\n      <th>63</th>\n      <td>adamewi01</td>\n      <td>1995.0</td>\n      <td>9.0</td>\n      <td>2.0</td>\n      <td>D.R.</td>\n      <td>Santiago</td>\n      <td>Santiago</td>\n      <td>NaN</td>\n      <td>NaN</td>\n      <td>NaN</td>\n      <td>...</td>\n      <td>72.0</td>\n      <td>R</td>\n      <td>R</td>\n      <td>2018-05-22</td>\n      <td>2020-08-08</td>\n      <td>adamw002</td>\n      <td>adamewi01</td>\n      <td>1995.09.02.0</td>\n      <td>1995-9-2</td>\n      <td>1995-09-02</td>\n    </tr>\n  </tbody>\n</table>\n<p>5 rows × 27 columns</p>\n</div>"
     },
     "metadata": {},
     "output_type": "display_data"
    }
   ],
   "source": [
    "# Using the f\" to format\n",
    "year = active_players['birthYear'].apply(lambda x: f'{x:.0f}')\n",
    "month = active_players['birthMonth'].apply(lambda x: f'{x:.0f}')\n",
    "day = active_players['birthDay'].apply(lambda x: f'{x:.0f}')\n",
    "\n",
    "# Concate birth year, month, day\n",
    "dob =  year + \"-\" + month + \"-\" + day\n",
    "\n",
    "# Add column with birth info\n",
    "active_players['DOB'] = dob\n",
    "\n",
    "# Ensure that DOB is a date field\n",
    "active_players['DOB'] = pd.to_datetime(active_players['DOB'])\n",
    "\n",
    "display(active_players.head())\n"
   ],
   "metadata": {
    "collapsed": false,
    "pycharm": {
     "name": "#%%\n"
    }
   }
  }
 ],
 "metadata": {
  "kernelspec": {
   "display_name": "Python 3",
   "language": "python",
   "name": "python3"
  },
  "language_info": {
   "codemirror_mode": {
    "name": "ipython",
    "version": 2
   },
   "file_extension": ".py",
   "mimetype": "text/x-python",
   "name": "python",
   "nbconvert_exporter": "python",
   "pygments_lexer": "ipython2",
   "version": "2.7.6"
  }
 },
 "nbformat": 4,
 "nbformat_minor": 0
}